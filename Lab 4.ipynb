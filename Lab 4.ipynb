{
 "cells": [
  {
   "cell_type": "markdown",
   "metadata": {},
   "source": [
    "# Alexis Weintraub, RH"
   ]
  },
  {
   "cell_type": "code",
   "execution_count": 70,
   "metadata": {},
   "outputs": [
    {
     "name": "stdout",
     "output_type": "stream",
     "text": [
      "The sql extension is already loaded. To reload it, use:\n",
      "  %reload_ext sql\n"
     ]
    }
   ],
   "source": [
    "%load_ext sql"
   ]
  },
  {
   "cell_type": "code",
   "execution_count": 81,
   "metadata": {
    "scrolled": true
   },
   "outputs": [
    {
     "data": {
      "text/plain": [
       "'Connected: @lab4.db3'"
      ]
     },
     "execution_count": 81,
     "metadata": {},
     "output_type": "execute_result"
    }
   ],
   "source": [
    "%sql sqlite:///lab4.db3"
   ]
  },
  {
   "cell_type": "markdown",
   "metadata": {},
   "source": [
    "# Question 1"
   ]
  },
  {
   "cell_type": "markdown",
   "metadata": {},
   "source": [
    "## This creates a Dogs table to run a query on\n",
    "### This table meets the conditions"
   ]
  },
  {
   "cell_type": "code",
   "execution_count": 82,
   "metadata": {},
   "outputs": [
    {
     "name": "stdout",
     "output_type": "stream",
     "text": [
      " * sqlite:///lab4.db3\n",
      "Done.\n",
      "Done.\n",
      "1 rows affected.\n",
      "1 rows affected.\n",
      "1 rows affected.\n",
      "1 rows affected.\n",
      "1 rows affected.\n",
      "1 rows affected.\n"
     ]
    },
    {
     "data": {
      "text/plain": [
       "[]"
      ]
     },
     "execution_count": 82,
     "metadata": {},
     "output_type": "execute_result"
    }
   ],
   "source": [
    "%%sql drop table if exists Dogs;     --drops the table if it already exists\n",
    "create table Dogs(\n",
    "       id       int,\n",
    "       name     string,\n",
    "       color    string,\n",
    "       age      int\n",
    ");\n",
    "insert into Dogs values('11', 'Rover', 'brown', '3');\n",
    "insert into Dogs values('22', 'Bruno', 'gray', '4');\n",
    "insert into Dogs values('33', 'Spot', 'white', '6');\n",
    "insert into Dogs values('44', 'Clifford', 'red', '2');\n",
    "insert into Dogs values('55', 'Fluffy', 'golden', '7');\n",
    "insert into Dogs values('11', 'Rover', 'brown', '3');"
   ]
  },
  {
   "cell_type": "markdown",
   "metadata": {},
   "source": [
    "### This prints the Dogs table"
   ]
  },
  {
   "cell_type": "code",
   "execution_count": 83,
   "metadata": {},
   "outputs": [
    {
     "name": "stdout",
     "output_type": "stream",
     "text": [
      " * sqlite:///lab4.db3\n",
      "Done.\n"
     ]
    },
    {
     "data": {
      "text/html": [
       "<table>\n",
       "    <tr>\n",
       "        <th>id</th>\n",
       "        <th>name</th>\n",
       "        <th>color</th>\n",
       "        <th>age</th>\n",
       "    </tr>\n",
       "    <tr>\n",
       "        <td>11</td>\n",
       "        <td>Rover</td>\n",
       "        <td>brown</td>\n",
       "        <td>3</td>\n",
       "    </tr>\n",
       "    <tr>\n",
       "        <td>22</td>\n",
       "        <td>Bruno</td>\n",
       "        <td>gray</td>\n",
       "        <td>4</td>\n",
       "    </tr>\n",
       "    <tr>\n",
       "        <td>33</td>\n",
       "        <td>Spot</td>\n",
       "        <td>white</td>\n",
       "        <td>6</td>\n",
       "    </tr>\n",
       "    <tr>\n",
       "        <td>44</td>\n",
       "        <td>Clifford</td>\n",
       "        <td>red</td>\n",
       "        <td>2</td>\n",
       "    </tr>\n",
       "    <tr>\n",
       "        <td>55</td>\n",
       "        <td>Fluffy</td>\n",
       "        <td>golden</td>\n",
       "        <td>7</td>\n",
       "    </tr>\n",
       "    <tr>\n",
       "        <td>11</td>\n",
       "        <td>Rover</td>\n",
       "        <td>brown</td>\n",
       "        <td>3</td>\n",
       "    </tr>\n",
       "</table>"
      ],
      "text/plain": [
       "[(11, 'Rover', 'brown', 3),\n",
       " (22, 'Bruno', 'gray', 4),\n",
       " (33, 'Spot', 'white', 6),\n",
       " (44, 'Clifford', 'red', 2),\n",
       " (55, 'Fluffy', 'golden', 7),\n",
       " (11, 'Rover', 'brown', 3)]"
      ]
     },
     "execution_count": 83,
     "metadata": {},
     "output_type": "execute_result"
    }
   ],
   "source": [
    "%%sql\n",
    "select *\n",
    "from Dogs"
   ]
  },
  {
   "cell_type": "markdown",
   "metadata": {},
   "source": [
    "### This query checks if {A} (id) is a superkey of {A, B, C, D} (id, name, color, age)"
   ]
  },
  {
   "cell_type": "code",
   "execution_count": 84,
   "metadata": {},
   "outputs": [
    {
     "name": "stdout",
     "output_type": "stream",
     "text": [
      " * sqlite:///lab4.db3\n",
      "Done.\n"
     ]
    },
    {
     "data": {
      "text/html": [
       "<table>\n",
       "    <tr>\n",
       "        <th>COUNT(*)</th>\n",
       "    </tr>\n",
       "    <tr>\n",
       "        <td>0</td>\n",
       "    </tr>\n",
       "</table>"
      ],
      "text/plain": [
       "[(0,)]"
      ]
     },
     "execution_count": 84,
     "metadata": {},
     "output_type": "execute_result"
    }
   ],
   "source": [
    "%%sql\n",
    "SELECT COUNT(*)\n",
    "FROM Dogs D1, Dogs D2\n",
    "WHERE D1.id = D2.id AND (D1.name != D2.name OR D1.color != D2.color OR D1.age != D2.age)"
   ]
  },
  {
   "cell_type": "markdown",
   "metadata": {},
   "source": [
    "## This creates a Cats table to run a query on\n",
    "### This table does not meet the conditions"
   ]
  },
  {
   "cell_type": "code",
   "execution_count": 85,
   "metadata": {
    "scrolled": true
   },
   "outputs": [
    {
     "name": "stdout",
     "output_type": "stream",
     "text": [
      " * sqlite:///lab4.db3\n",
      "Done.\n",
      "Done.\n",
      "1 rows affected.\n",
      "1 rows affected.\n",
      "1 rows affected.\n",
      "1 rows affected.\n",
      "1 rows affected.\n",
      "1 rows affected.\n"
     ]
    },
    {
     "data": {
      "text/plain": [
       "[]"
      ]
     },
     "execution_count": 85,
     "metadata": {},
     "output_type": "execute_result"
    }
   ],
   "source": [
    "%%sql drop table if exists Cats;     --drops the table if it already exists\n",
    "create table Cats(\n",
    "       id       int,\n",
    "       name     string,\n",
    "       color    string,\n",
    "       age      int\n",
    ");\n",
    "insert into Cats values('111', 'Gatsby', 'black', '3');\n",
    "insert into Cats values('222', 'Nibble', 'gray', '4');\n",
    "insert into Cats values('333', 'Peaches', 'orange', '6');\n",
    "insert into Cats values('444', 'Thomas', 'calico', '2');\n",
    "insert into Cats values('555', 'Lucy', 'white', '7');\n",
    "insert into Cats values('111', 'Lovely', 'gray', '2');"
   ]
  },
  {
   "cell_type": "markdown",
   "metadata": {},
   "source": [
    "## This prints the Cats table"
   ]
  },
  {
   "cell_type": "code",
   "execution_count": 86,
   "metadata": {},
   "outputs": [
    {
     "name": "stdout",
     "output_type": "stream",
     "text": [
      " * sqlite:///lab4.db3\n",
      "Done.\n"
     ]
    },
    {
     "data": {
      "text/html": [
       "<table>\n",
       "    <tr>\n",
       "        <th>id</th>\n",
       "        <th>name</th>\n",
       "        <th>color</th>\n",
       "        <th>age</th>\n",
       "    </tr>\n",
       "    <tr>\n",
       "        <td>111</td>\n",
       "        <td>Gatsby</td>\n",
       "        <td>black</td>\n",
       "        <td>3</td>\n",
       "    </tr>\n",
       "    <tr>\n",
       "        <td>222</td>\n",
       "        <td>Nibble</td>\n",
       "        <td>gray</td>\n",
       "        <td>4</td>\n",
       "    </tr>\n",
       "    <tr>\n",
       "        <td>333</td>\n",
       "        <td>Peaches</td>\n",
       "        <td>orange</td>\n",
       "        <td>6</td>\n",
       "    </tr>\n",
       "    <tr>\n",
       "        <td>444</td>\n",
       "        <td>Thomas</td>\n",
       "        <td>calico</td>\n",
       "        <td>2</td>\n",
       "    </tr>\n",
       "    <tr>\n",
       "        <td>555</td>\n",
       "        <td>Lucy</td>\n",
       "        <td>white</td>\n",
       "        <td>7</td>\n",
       "    </tr>\n",
       "    <tr>\n",
       "        <td>111</td>\n",
       "        <td>Lovely</td>\n",
       "        <td>gray</td>\n",
       "        <td>2</td>\n",
       "    </tr>\n",
       "</table>"
      ],
      "text/plain": [
       "[(111, 'Gatsby', 'black', 3),\n",
       " (222, 'Nibble', 'gray', 4),\n",
       " (333, 'Peaches', 'orange', 6),\n",
       " (444, 'Thomas', 'calico', 2),\n",
       " (555, 'Lucy', 'white', 7),\n",
       " (111, 'Lovely', 'gray', 2)]"
      ]
     },
     "execution_count": 86,
     "metadata": {},
     "output_type": "execute_result"
    }
   ],
   "source": [
    "%%sql\n",
    "select *\n",
    "from Cats"
   ]
  },
  {
   "cell_type": "markdown",
   "metadata": {},
   "source": [
    "### This query checks if {A} (id) is a superkey of {A, B, C, D} (id, name, color, age)"
   ]
  },
  {
   "cell_type": "code",
   "execution_count": 87,
   "metadata": {},
   "outputs": [
    {
     "name": "stdout",
     "output_type": "stream",
     "text": [
      " * sqlite:///lab4.db3\n",
      "Done.\n"
     ]
    },
    {
     "data": {
      "text/html": [
       "<table>\n",
       "    <tr>\n",
       "        <th>COUNT(*)</th>\n",
       "    </tr>\n",
       "    <tr>\n",
       "        <td>2</td>\n",
       "    </tr>\n",
       "</table>"
      ],
      "text/plain": [
       "[(2,)]"
      ]
     },
     "execution_count": 87,
     "metadata": {},
     "output_type": "execute_result"
    }
   ],
   "source": [
    "%%sql\n",
    "SELECT COUNT(*)\n",
    "FROM Cats C1, Cats C2\n",
    "WHERE C1.id = C2.id AND (C1.name != C2.name OR C1.color != C2.color OR C1.age != C2.age)"
   ]
  },
  {
   "cell_type": "markdown",
   "metadata": {},
   "source": [
    "# Question 2"
   ]
  },
  {
   "cell_type": "markdown",
   "metadata": {},
   "source": [
    "## This creates a table of Trees, which meets the conditions of each SQL query.\n",
    "### I use a self-join to compare the values in the table"
   ]
  },
  {
   "cell_type": "code",
   "execution_count": 88,
   "metadata": {},
   "outputs": [
    {
     "name": "stdout",
     "output_type": "stream",
     "text": [
      " * sqlite:///lab4.db3\n",
      "Done.\n",
      "Done.\n",
      "1 rows affected.\n",
      "1 rows affected.\n",
      "1 rows affected.\n",
      "1 rows affected.\n",
      "1 rows affected.\n",
      "1 rows affected.\n",
      "1 rows affected.\n",
      "1 rows affected.\n",
      "1 rows affected.\n",
      "1 rows affected.\n"
     ]
    },
    {
     "data": {
      "text/plain": [
       "[]"
      ]
     },
     "execution_count": 88,
     "metadata": {},
     "output_type": "execute_result"
    }
   ],
   "source": [
    "%%sql drop table if exists Trees;     --drops the table if it already exists\n",
    "create table Trees(\n",
    "       id       int,\n",
    "       type     string,\n",
    "       age      int,\n",
    "       height   int\n",
    ");\n",
    "insert into Trees values('11', 'Oak', '56', '23');\n",
    "insert into Trees values('12', 'Birch', '24', '24');\n",
    "insert into Trees values('13', 'Palm', '12', '6');\n",
    "insert into Trees values('14', 'Sycamore', '78', '32');\n",
    "insert into Trees values('15', 'Willow', '37', '27');\n",
    "insert into Trees values('11', 'Oak', '56', '23');\n",
    "insert into Trees values('12', 'Birch', '24', '24');\n",
    "insert into Trees values('13', 'Palm', '12', '6');\n",
    "insert into Trees values('14', 'Sycamore', '78', '32');\n",
    "insert into Trees values('15', 'Willow', '37', '27');"
   ]
  },
  {
   "cell_type": "markdown",
   "metadata": {},
   "source": [
    "### This prints the table"
   ]
  },
  {
   "cell_type": "code",
   "execution_count": 89,
   "metadata": {},
   "outputs": [
    {
     "name": "stdout",
     "output_type": "stream",
     "text": [
      " * sqlite:///lab4.db3\n",
      "Done.\n"
     ]
    },
    {
     "data": {
      "text/html": [
       "<table>\n",
       "    <tr>\n",
       "        <th>id</th>\n",
       "        <th>type</th>\n",
       "        <th>age</th>\n",
       "        <th>height</th>\n",
       "    </tr>\n",
       "    <tr>\n",
       "        <td>11</td>\n",
       "        <td>Oak</td>\n",
       "        <td>56</td>\n",
       "        <td>23</td>\n",
       "    </tr>\n",
       "    <tr>\n",
       "        <td>12</td>\n",
       "        <td>Birch</td>\n",
       "        <td>24</td>\n",
       "        <td>24</td>\n",
       "    </tr>\n",
       "    <tr>\n",
       "        <td>13</td>\n",
       "        <td>Palm</td>\n",
       "        <td>12</td>\n",
       "        <td>6</td>\n",
       "    </tr>\n",
       "    <tr>\n",
       "        <td>14</td>\n",
       "        <td>Sycamore</td>\n",
       "        <td>78</td>\n",
       "        <td>32</td>\n",
       "    </tr>\n",
       "    <tr>\n",
       "        <td>15</td>\n",
       "        <td>Willow</td>\n",
       "        <td>37</td>\n",
       "        <td>27</td>\n",
       "    </tr>\n",
       "    <tr>\n",
       "        <td>11</td>\n",
       "        <td>Oak</td>\n",
       "        <td>56</td>\n",
       "        <td>23</td>\n",
       "    </tr>\n",
       "    <tr>\n",
       "        <td>12</td>\n",
       "        <td>Birch</td>\n",
       "        <td>24</td>\n",
       "        <td>24</td>\n",
       "    </tr>\n",
       "    <tr>\n",
       "        <td>13</td>\n",
       "        <td>Palm</td>\n",
       "        <td>12</td>\n",
       "        <td>6</td>\n",
       "    </tr>\n",
       "    <tr>\n",
       "        <td>14</td>\n",
       "        <td>Sycamore</td>\n",
       "        <td>78</td>\n",
       "        <td>32</td>\n",
       "    </tr>\n",
       "    <tr>\n",
       "        <td>15</td>\n",
       "        <td>Willow</td>\n",
       "        <td>37</td>\n",
       "        <td>27</td>\n",
       "    </tr>\n",
       "</table>"
      ],
      "text/plain": [
       "[(11, 'Oak', 56, 23),\n",
       " (12, 'Birch', 24, 24),\n",
       " (13, 'Palm', 12, 6),\n",
       " (14, 'Sycamore', 78, 32),\n",
       " (15, 'Willow', 37, 27),\n",
       " (11, 'Oak', 56, 23),\n",
       " (12, 'Birch', 24, 24),\n",
       " (13, 'Palm', 12, 6),\n",
       " (14, 'Sycamore', 78, 32),\n",
       " (15, 'Willow', 37, 27)]"
      ]
     },
     "execution_count": 89,
     "metadata": {},
     "output_type": "execute_result"
    }
   ],
   "source": [
    "%%sql\n",
    "select *\n",
    "from Trees"
   ]
  },
  {
   "cell_type": "markdown",
   "metadata": {},
   "source": [
    "### This tests the combination A and B (id and type)"
   ]
  },
  {
   "cell_type": "code",
   "execution_count": 90,
   "metadata": {},
   "outputs": [
    {
     "name": "stdout",
     "output_type": "stream",
     "text": [
      " * sqlite:///lab4.db3\n",
      "Done.\n"
     ]
    },
    {
     "data": {
      "text/html": [
       "<table>\n",
       "    <tr>\n",
       "        <th>COUNT(*)</th>\n",
       "    </tr>\n",
       "    <tr>\n",
       "        <td>0</td>\n",
       "    </tr>\n",
       "</table>"
      ],
      "text/plain": [
       "[(0,)]"
      ]
     },
     "execution_count": 90,
     "metadata": {},
     "output_type": "execute_result"
    }
   ],
   "source": [
    "%%sql\n",
    "SELECT COUNT(*)\n",
    "FROM Trees T1, Trees T2\n",
    "WHERE (T1.id = T2.id AND T1.type = T2.type) AND (T1.age != T2.age OR T1.height != T2.height)"
   ]
  },
  {
   "cell_type": "markdown",
   "metadata": {},
   "source": [
    "### This tests the combination A and C (id and age)"
   ]
  },
  {
   "cell_type": "code",
   "execution_count": 91,
   "metadata": {},
   "outputs": [
    {
     "name": "stdout",
     "output_type": "stream",
     "text": [
      " * sqlite:///lab4.db3\n",
      "Done.\n"
     ]
    },
    {
     "data": {
      "text/html": [
       "<table>\n",
       "    <tr>\n",
       "        <th>COUNT(*)</th>\n",
       "    </tr>\n",
       "    <tr>\n",
       "        <td>0</td>\n",
       "    </tr>\n",
       "</table>"
      ],
      "text/plain": [
       "[(0,)]"
      ]
     },
     "execution_count": 91,
     "metadata": {},
     "output_type": "execute_result"
    }
   ],
   "source": [
    "%%sql\n",
    "SELECT COUNT(*)\n",
    "FROM Trees T1, Trees T2\n",
    "WHERE (T1.id = T2.id AND T1.age = T2.age) AND (T1.type != T2.type OR T1.height != T2.height)"
   ]
  },
  {
   "cell_type": "markdown",
   "metadata": {},
   "source": [
    "### This tests the combination A and D (id and height)"
   ]
  },
  {
   "cell_type": "code",
   "execution_count": 92,
   "metadata": {},
   "outputs": [
    {
     "name": "stdout",
     "output_type": "stream",
     "text": [
      " * sqlite:///lab4.db3\n",
      "Done.\n"
     ]
    },
    {
     "data": {
      "text/html": [
       "<table>\n",
       "    <tr>\n",
       "        <th>COUNT(*)</th>\n",
       "    </tr>\n",
       "    <tr>\n",
       "        <td>0</td>\n",
       "    </tr>\n",
       "</table>"
      ],
      "text/plain": [
       "[(0,)]"
      ]
     },
     "execution_count": 92,
     "metadata": {},
     "output_type": "execute_result"
    }
   ],
   "source": [
    "%%sql\n",
    "SELECT COUNT(*)\n",
    "FROM Trees T1, Trees T2\n",
    "WHERE (T1.id = T2.id AND T1.height = T2.height) AND (T1.age != T2.age OR T1.type != T2.type)"
   ]
  },
  {
   "cell_type": "markdown",
   "metadata": {},
   "source": [
    "### This tests the combination B and C (type and age)"
   ]
  },
  {
   "cell_type": "code",
   "execution_count": 93,
   "metadata": {},
   "outputs": [
    {
     "name": "stdout",
     "output_type": "stream",
     "text": [
      " * sqlite:///lab4.db3\n",
      "Done.\n"
     ]
    },
    {
     "data": {
      "text/html": [
       "<table>\n",
       "    <tr>\n",
       "        <th>COUNT(*)</th>\n",
       "    </tr>\n",
       "    <tr>\n",
       "        <td>0</td>\n",
       "    </tr>\n",
       "</table>"
      ],
      "text/plain": [
       "[(0,)]"
      ]
     },
     "execution_count": 93,
     "metadata": {},
     "output_type": "execute_result"
    }
   ],
   "source": [
    "%%sql\n",
    "SELECT COUNT(*)\n",
    "FROM Trees T1, Trees T2\n",
    "WHERE (T1.type = T2.type AND T1.age = T2.age) AND (T1.id != T2.id OR T1.height != T2.height)"
   ]
  },
  {
   "cell_type": "markdown",
   "metadata": {},
   "source": [
    "### This tests the combination B and D (type and height)"
   ]
  },
  {
   "cell_type": "code",
   "execution_count": 94,
   "metadata": {},
   "outputs": [
    {
     "name": "stdout",
     "output_type": "stream",
     "text": [
      " * sqlite:///lab4.db3\n",
      "Done.\n"
     ]
    },
    {
     "data": {
      "text/html": [
       "<table>\n",
       "    <tr>\n",
       "        <th>COUNT(*)</th>\n",
       "    </tr>\n",
       "    <tr>\n",
       "        <td>0</td>\n",
       "    </tr>\n",
       "</table>"
      ],
      "text/plain": [
       "[(0,)]"
      ]
     },
     "execution_count": 94,
     "metadata": {},
     "output_type": "execute_result"
    }
   ],
   "source": [
    "%%sql\n",
    "SELECT COUNT(*)\n",
    "FROM Trees T1, Trees T2\n",
    "WHERE (T1.type = T2.type AND T1.height = T2.height) AND (T1.id != T2.id OR T1.age != T2.age)"
   ]
  },
  {
   "cell_type": "markdown",
   "metadata": {},
   "source": [
    "### This tests the combination C and D (age and height)"
   ]
  },
  {
   "cell_type": "code",
   "execution_count": 95,
   "metadata": {},
   "outputs": [
    {
     "name": "stdout",
     "output_type": "stream",
     "text": [
      " * sqlite:///lab4.db3\n",
      "Done.\n"
     ]
    },
    {
     "data": {
      "text/html": [
       "<table>\n",
       "    <tr>\n",
       "        <th>COUNT(*)</th>\n",
       "    </tr>\n",
       "    <tr>\n",
       "        <td>0</td>\n",
       "    </tr>\n",
       "</table>"
      ],
      "text/plain": [
       "[(0,)]"
      ]
     },
     "execution_count": 95,
     "metadata": {},
     "output_type": "execute_result"
    }
   ],
   "source": [
    "%%sql\n",
    "SELECT COUNT(*)\n",
    "FROM Trees T1, Trees T2\n",
    "WHERE (T1.age = T2.age AND T1.height = T2.height) AND (T1.id != T2.id OR T1.type != T2.type)"
   ]
  },
  {
   "cell_type": "markdown",
   "metadata": {},
   "source": [
    "## This creates a table of Flowers, which does not meet the conditions of the SQL query\n",
    "### For this part of question 2, I made a new table similar to the original but slightly different, so that for each query it would not meet the conditions. That is why the names of the flowers, the colors, and the leaves are slightly different every time."
   ]
  },
  {
   "cell_type": "markdown",
   "metadata": {},
   "source": [
    "### Here, I created a table so combination A and B would fail"
   ]
  },
  {
   "cell_type": "code",
   "execution_count": 97,
   "metadata": {},
   "outputs": [
    {
     "name": "stdout",
     "output_type": "stream",
     "text": [
      " * sqlite:///lab4.db3\n",
      "Done.\n",
      "Done.\n",
      "1 rows affected.\n",
      "1 rows affected.\n",
      "1 rows affected.\n",
      "1 rows affected.\n",
      "1 rows affected.\n",
      "1 rows affected.\n",
      "1 rows affected.\n",
      "1 rows affected.\n",
      "1 rows affected.\n",
      "1 rows affected.\n"
     ]
    },
    {
     "data": {
      "text/plain": [
       "[]"
      ]
     },
     "execution_count": 97,
     "metadata": {},
     "output_type": "execute_result"
    }
   ],
   "source": [
    "%%sql drop table if exists Flowers;     --drops the table if it already exists\n",
    "create table Flowers(\n",
    "       id       int,\n",
    "       type     string,\n",
    "       color    string,\n",
    "       leaves   int\n",
    ");\n",
    "insert into Flowers values('111', 'Daffodil', 'white', '3');\n",
    "insert into Flowers values('112', 'Daisy', 'white', '4');\n",
    "insert into Flowers values('113', 'Rose', 'red', '6');\n",
    "insert into Flowers values('114', 'Tulip', 'yellow', '2');\n",
    "insert into Flowers values('115', 'Violet', 'purple', '6');\n",
    "insert into Flowers values('111', 'Daffodil', 'brown', '7');\n",
    "insert into Flowers values('112', 'Daisy', 'orange', '3');\n",
    "insert into Flowers values('113', 'Rose', 'pink', '5');\n",
    "insert into Flowers values('114', 'Tulip', 'white', '1');\n",
    "insert into Flowers values('115', 'Violet', 'magenta', '2');"
   ]
  },
  {
   "cell_type": "markdown",
   "metadata": {},
   "source": [
    "### This prints the first version of the table"
   ]
  },
  {
   "cell_type": "code",
   "execution_count": 98,
   "metadata": {},
   "outputs": [
    {
     "name": "stdout",
     "output_type": "stream",
     "text": [
      " * sqlite:///lab4.db3\n",
      "Done.\n"
     ]
    },
    {
     "data": {
      "text/html": [
       "<table>\n",
       "    <tr>\n",
       "        <th>id</th>\n",
       "        <th>type</th>\n",
       "        <th>color</th>\n",
       "        <th>leaves</th>\n",
       "    </tr>\n",
       "    <tr>\n",
       "        <td>111</td>\n",
       "        <td>Daffodil</td>\n",
       "        <td>white</td>\n",
       "        <td>3</td>\n",
       "    </tr>\n",
       "    <tr>\n",
       "        <td>112</td>\n",
       "        <td>Daisy</td>\n",
       "        <td>white</td>\n",
       "        <td>4</td>\n",
       "    </tr>\n",
       "    <tr>\n",
       "        <td>113</td>\n",
       "        <td>Rose</td>\n",
       "        <td>red</td>\n",
       "        <td>6</td>\n",
       "    </tr>\n",
       "    <tr>\n",
       "        <td>114</td>\n",
       "        <td>Tulip</td>\n",
       "        <td>yellow</td>\n",
       "        <td>2</td>\n",
       "    </tr>\n",
       "    <tr>\n",
       "        <td>115</td>\n",
       "        <td>Violet</td>\n",
       "        <td>purple</td>\n",
       "        <td>6</td>\n",
       "    </tr>\n",
       "    <tr>\n",
       "        <td>111</td>\n",
       "        <td>Daffodil</td>\n",
       "        <td>brown</td>\n",
       "        <td>7</td>\n",
       "    </tr>\n",
       "    <tr>\n",
       "        <td>112</td>\n",
       "        <td>Daisy</td>\n",
       "        <td>orange</td>\n",
       "        <td>3</td>\n",
       "    </tr>\n",
       "    <tr>\n",
       "        <td>113</td>\n",
       "        <td>Rose</td>\n",
       "        <td>pink</td>\n",
       "        <td>5</td>\n",
       "    </tr>\n",
       "    <tr>\n",
       "        <td>114</td>\n",
       "        <td>Tulip</td>\n",
       "        <td>white</td>\n",
       "        <td>1</td>\n",
       "    </tr>\n",
       "    <tr>\n",
       "        <td>115</td>\n",
       "        <td>Violet</td>\n",
       "        <td>magenta</td>\n",
       "        <td>2</td>\n",
       "    </tr>\n",
       "</table>"
      ],
      "text/plain": [
       "[(111, 'Daffodil', 'white', 3),\n",
       " (112, 'Daisy', 'white', 4),\n",
       " (113, 'Rose', 'red', 6),\n",
       " (114, 'Tulip', 'yellow', 2),\n",
       " (115, 'Violet', 'purple', 6),\n",
       " (111, 'Daffodil', 'brown', 7),\n",
       " (112, 'Daisy', 'orange', 3),\n",
       " (113, 'Rose', 'pink', 5),\n",
       " (114, 'Tulip', 'white', 1),\n",
       " (115, 'Violet', 'magenta', 2)]"
      ]
     },
     "execution_count": 98,
     "metadata": {},
     "output_type": "execute_result"
    }
   ],
   "source": [
    "%%sql\n",
    "select *\n",
    "from Flowers"
   ]
  },
  {
   "cell_type": "markdown",
   "metadata": {},
   "source": [
    "### This tests the combination A and B (id and type)"
   ]
  },
  {
   "cell_type": "code",
   "execution_count": 100,
   "metadata": {},
   "outputs": [
    {
     "name": "stdout",
     "output_type": "stream",
     "text": [
      " * sqlite:///lab4.db3\n",
      "Done.\n"
     ]
    },
    {
     "data": {
      "text/html": [
       "<table>\n",
       "    <tr>\n",
       "        <th>COUNT(*)</th>\n",
       "    </tr>\n",
       "    <tr>\n",
       "        <td>10</td>\n",
       "    </tr>\n",
       "</table>"
      ],
      "text/plain": [
       "[(10,)]"
      ]
     },
     "execution_count": 100,
     "metadata": {},
     "output_type": "execute_result"
    }
   ],
   "source": [
    "%%sql\n",
    "SELECT COUNT(*)\n",
    "FROM Flowers F1, Flowers F2\n",
    "WHERE (F1.id = F2.id AND F1.type = F2.type) AND (F1.color != F2.color OR F1.leaves != F2.leaves)"
   ]
  },
  {
   "cell_type": "markdown",
   "metadata": {},
   "source": [
    "### Here, I created a new table similar to the original so combination A and C would fail"
   ]
  },
  {
   "cell_type": "code",
   "execution_count": 101,
   "metadata": {},
   "outputs": [
    {
     "name": "stdout",
     "output_type": "stream",
     "text": [
      " * sqlite:///lab4.db3\n",
      "Done.\n",
      "Done.\n",
      "1 rows affected.\n",
      "1 rows affected.\n",
      "1 rows affected.\n",
      "1 rows affected.\n",
      "1 rows affected.\n",
      "1 rows affected.\n",
      "1 rows affected.\n",
      "1 rows affected.\n",
      "1 rows affected.\n",
      "1 rows affected.\n"
     ]
    },
    {
     "data": {
      "text/plain": [
       "[]"
      ]
     },
     "execution_count": 101,
     "metadata": {},
     "output_type": "execute_result"
    }
   ],
   "source": [
    "%%sql drop table if exists Flowers2;     --drops the table if it already exists\n",
    "create table Flowers2(\n",
    "       id       int,\n",
    "       type     string,\n",
    "       color    string,\n",
    "       leaves   int\n",
    ");\n",
    "insert into Flowers2 values('111', 'Daffodil', 'brown', '3');\n",
    "insert into Flowers2 values('112', 'Daisy', 'white', '4');\n",
    "insert into Flowers2 values('113', 'Rose', 'pink', '6');\n",
    "insert into Flowers2 values('114', 'Tulip', 'yellow', '2');\n",
    "insert into Flowers2 values('115', 'Violet', 'purple', '6');\n",
    "insert into Flowers2 values('111', 'Mum', 'brown', '7');\n",
    "insert into Flowers2 values('112', 'Marigold', 'white', '3');\n",
    "insert into Flowers2 values('113', 'Lily', 'pink', '5');\n",
    "insert into Flowers2 values('114', 'Hydrangea', 'yellow', '1');\n",
    "insert into Flowers2 values('115', 'Orchid', 'purple', '2');"
   ]
  },
  {
   "cell_type": "markdown",
   "metadata": {},
   "source": [
    "### This prints the table Flowers2"
   ]
  },
  {
   "cell_type": "code",
   "execution_count": 102,
   "metadata": {},
   "outputs": [
    {
     "name": "stdout",
     "output_type": "stream",
     "text": [
      " * sqlite:///lab4.db3\n",
      "Done.\n"
     ]
    },
    {
     "data": {
      "text/html": [
       "<table>\n",
       "    <tr>\n",
       "        <th>id</th>\n",
       "        <th>type</th>\n",
       "        <th>color</th>\n",
       "        <th>leaves</th>\n",
       "    </tr>\n",
       "    <tr>\n",
       "        <td>111</td>\n",
       "        <td>Daffodil</td>\n",
       "        <td>brown</td>\n",
       "        <td>3</td>\n",
       "    </tr>\n",
       "    <tr>\n",
       "        <td>112</td>\n",
       "        <td>Daisy</td>\n",
       "        <td>white</td>\n",
       "        <td>4</td>\n",
       "    </tr>\n",
       "    <tr>\n",
       "        <td>113</td>\n",
       "        <td>Rose</td>\n",
       "        <td>pink</td>\n",
       "        <td>6</td>\n",
       "    </tr>\n",
       "    <tr>\n",
       "        <td>114</td>\n",
       "        <td>Tulip</td>\n",
       "        <td>yellow</td>\n",
       "        <td>2</td>\n",
       "    </tr>\n",
       "    <tr>\n",
       "        <td>115</td>\n",
       "        <td>Violet</td>\n",
       "        <td>purple</td>\n",
       "        <td>6</td>\n",
       "    </tr>\n",
       "    <tr>\n",
       "        <td>111</td>\n",
       "        <td>Mum</td>\n",
       "        <td>brown</td>\n",
       "        <td>7</td>\n",
       "    </tr>\n",
       "    <tr>\n",
       "        <td>112</td>\n",
       "        <td>Marigold</td>\n",
       "        <td>white</td>\n",
       "        <td>3</td>\n",
       "    </tr>\n",
       "    <tr>\n",
       "        <td>113</td>\n",
       "        <td>Lily</td>\n",
       "        <td>pink</td>\n",
       "        <td>5</td>\n",
       "    </tr>\n",
       "    <tr>\n",
       "        <td>114</td>\n",
       "        <td>Hydrangea</td>\n",
       "        <td>yellow</td>\n",
       "        <td>1</td>\n",
       "    </tr>\n",
       "    <tr>\n",
       "        <td>115</td>\n",
       "        <td>Orchid</td>\n",
       "        <td>purple</td>\n",
       "        <td>2</td>\n",
       "    </tr>\n",
       "</table>"
      ],
      "text/plain": [
       "[(111, 'Daffodil', 'brown', 3),\n",
       " (112, 'Daisy', 'white', 4),\n",
       " (113, 'Rose', 'pink', 6),\n",
       " (114, 'Tulip', 'yellow', 2),\n",
       " (115, 'Violet', 'purple', 6),\n",
       " (111, 'Mum', 'brown', 7),\n",
       " (112, 'Marigold', 'white', 3),\n",
       " (113, 'Lily', 'pink', 5),\n",
       " (114, 'Hydrangea', 'yellow', 1),\n",
       " (115, 'Orchid', 'purple', 2)]"
      ]
     },
     "execution_count": 102,
     "metadata": {},
     "output_type": "execute_result"
    }
   ],
   "source": [
    "%%sql\n",
    "select *\n",
    "from Flowers2"
   ]
  },
  {
   "cell_type": "markdown",
   "metadata": {},
   "source": [
    "### This tests the combination A and C (id and color)"
   ]
  },
  {
   "cell_type": "code",
   "execution_count": 103,
   "metadata": {},
   "outputs": [
    {
     "name": "stdout",
     "output_type": "stream",
     "text": [
      " * sqlite:///lab4.db3\n",
      "Done.\n"
     ]
    },
    {
     "data": {
      "text/html": [
       "<table>\n",
       "    <tr>\n",
       "        <th>COUNT(*)</th>\n",
       "    </tr>\n",
       "    <tr>\n",
       "        <td>10</td>\n",
       "    </tr>\n",
       "</table>"
      ],
      "text/plain": [
       "[(10,)]"
      ]
     },
     "execution_count": 103,
     "metadata": {},
     "output_type": "execute_result"
    }
   ],
   "source": [
    "%%sql\n",
    "SELECT COUNT(*)\n",
    "FROM Flowers2 F1, Flowers2 F2\n",
    "WHERE (F1.id = F2.id AND F1.color = F2.color) AND (F1.type != F2.type OR F1.leaves != F2.leaves)"
   ]
  },
  {
   "cell_type": "markdown",
   "metadata": {},
   "source": [
    "### Here, I created a new table similar to the original so combination A and D would fail"
   ]
  },
  {
   "cell_type": "code",
   "execution_count": 105,
   "metadata": {},
   "outputs": [
    {
     "name": "stdout",
     "output_type": "stream",
     "text": [
      " * sqlite:///lab4.db3\n",
      "Done.\n",
      "Done.\n",
      "1 rows affected.\n",
      "1 rows affected.\n",
      "1 rows affected.\n",
      "1 rows affected.\n",
      "1 rows affected.\n",
      "1 rows affected.\n",
      "1 rows affected.\n",
      "1 rows affected.\n",
      "1 rows affected.\n",
      "1 rows affected.\n"
     ]
    },
    {
     "data": {
      "text/plain": [
       "[]"
      ]
     },
     "execution_count": 105,
     "metadata": {},
     "output_type": "execute_result"
    }
   ],
   "source": [
    "%%sql drop table if exists Flowers3;     --drops the table if it already exists\n",
    "create table Flowers3(\n",
    "       id       int,\n",
    "       type     string,\n",
    "       color    string,\n",
    "       leaves   int\n",
    ");\n",
    "insert into Flowers3 values('111', 'Daffodil', 'brown', '3');\n",
    "insert into Flowers3 values('112', 'Daisy', 'white', '4');\n",
    "insert into Flowers3 values('113', 'Rose', 'pink', '6');\n",
    "insert into Flowers3 values('114', 'Tulip', 'yellow', '2');\n",
    "insert into Flowers3 values('115', 'Violet', 'purple', '6');\n",
    "insert into Flowers3 values('111', 'Mum', 'brown', '3');\n",
    "insert into Flowers3 values('112', 'Marigold', 'white', '4');\n",
    "insert into Flowers3 values('113', 'Lily', 'pink', '6');\n",
    "insert into Flowers3 values('114', 'Hydrangea', 'yellow', '2');\n",
    "insert into Flowers3 values('115', 'Orchid', 'purple', '6');"
   ]
  },
  {
   "cell_type": "markdown",
   "metadata": {},
   "source": [
    "### This prints the table Flowers3"
   ]
  },
  {
   "cell_type": "code",
   "execution_count": 106,
   "metadata": {},
   "outputs": [
    {
     "name": "stdout",
     "output_type": "stream",
     "text": [
      " * sqlite:///lab4.db3\n",
      "Done.\n"
     ]
    },
    {
     "data": {
      "text/html": [
       "<table>\n",
       "    <tr>\n",
       "        <th>id</th>\n",
       "        <th>type</th>\n",
       "        <th>color</th>\n",
       "        <th>leaves</th>\n",
       "    </tr>\n",
       "    <tr>\n",
       "        <td>111</td>\n",
       "        <td>Daffodil</td>\n",
       "        <td>brown</td>\n",
       "        <td>3</td>\n",
       "    </tr>\n",
       "    <tr>\n",
       "        <td>112</td>\n",
       "        <td>Daisy</td>\n",
       "        <td>white</td>\n",
       "        <td>4</td>\n",
       "    </tr>\n",
       "    <tr>\n",
       "        <td>113</td>\n",
       "        <td>Rose</td>\n",
       "        <td>pink</td>\n",
       "        <td>6</td>\n",
       "    </tr>\n",
       "    <tr>\n",
       "        <td>114</td>\n",
       "        <td>Tulip</td>\n",
       "        <td>yellow</td>\n",
       "        <td>2</td>\n",
       "    </tr>\n",
       "    <tr>\n",
       "        <td>115</td>\n",
       "        <td>Violet</td>\n",
       "        <td>purple</td>\n",
       "        <td>6</td>\n",
       "    </tr>\n",
       "    <tr>\n",
       "        <td>111</td>\n",
       "        <td>Mum</td>\n",
       "        <td>brown</td>\n",
       "        <td>3</td>\n",
       "    </tr>\n",
       "    <tr>\n",
       "        <td>112</td>\n",
       "        <td>Marigold</td>\n",
       "        <td>white</td>\n",
       "        <td>4</td>\n",
       "    </tr>\n",
       "    <tr>\n",
       "        <td>113</td>\n",
       "        <td>Lily</td>\n",
       "        <td>pink</td>\n",
       "        <td>6</td>\n",
       "    </tr>\n",
       "    <tr>\n",
       "        <td>114</td>\n",
       "        <td>Hydrangea</td>\n",
       "        <td>yellow</td>\n",
       "        <td>2</td>\n",
       "    </tr>\n",
       "    <tr>\n",
       "        <td>115</td>\n",
       "        <td>Orchid</td>\n",
       "        <td>purple</td>\n",
       "        <td>6</td>\n",
       "    </tr>\n",
       "</table>"
      ],
      "text/plain": [
       "[(111, 'Daffodil', 'brown', 3),\n",
       " (112, 'Daisy', 'white', 4),\n",
       " (113, 'Rose', 'pink', 6),\n",
       " (114, 'Tulip', 'yellow', 2),\n",
       " (115, 'Violet', 'purple', 6),\n",
       " (111, 'Mum', 'brown', 3),\n",
       " (112, 'Marigold', 'white', 4),\n",
       " (113, 'Lily', 'pink', 6),\n",
       " (114, 'Hydrangea', 'yellow', 2),\n",
       " (115, 'Orchid', 'purple', 6)]"
      ]
     },
     "execution_count": 106,
     "metadata": {},
     "output_type": "execute_result"
    }
   ],
   "source": [
    "%%sql\n",
    "select *\n",
    "from Flowers3"
   ]
  },
  {
   "cell_type": "markdown",
   "metadata": {},
   "source": [
    "### This tests the combination A and D (id and leaves)"
   ]
  },
  {
   "cell_type": "code",
   "execution_count": 107,
   "metadata": {},
   "outputs": [
    {
     "name": "stdout",
     "output_type": "stream",
     "text": [
      " * sqlite:///lab4.db3\n",
      "Done.\n"
     ]
    },
    {
     "data": {
      "text/html": [
       "<table>\n",
       "    <tr>\n",
       "        <th>COUNT(*)</th>\n",
       "    </tr>\n",
       "    <tr>\n",
       "        <td>10</td>\n",
       "    </tr>\n",
       "</table>"
      ],
      "text/plain": [
       "[(10,)]"
      ]
     },
     "execution_count": 107,
     "metadata": {},
     "output_type": "execute_result"
    }
   ],
   "source": [
    "%%sql\n",
    "SELECT COUNT(*)\n",
    "FROM Flowers3 F1, Flowers3 F2\n",
    "WHERE (F1.id = F2.id AND F1.leaves = F2.leaves) AND (F1.color != F2.color OR F1.type != F2.type)"
   ]
  },
  {
   "cell_type": "markdown",
   "metadata": {},
   "source": [
    "### Here, I created a new table similar to the original so combination B and C would fail"
   ]
  },
  {
   "cell_type": "code",
   "execution_count": 108,
   "metadata": {},
   "outputs": [
    {
     "name": "stdout",
     "output_type": "stream",
     "text": [
      " * sqlite:///lab4.db3\n",
      "Done.\n",
      "Done.\n",
      "1 rows affected.\n",
      "1 rows affected.\n",
      "1 rows affected.\n",
      "1 rows affected.\n",
      "1 rows affected.\n",
      "1 rows affected.\n",
      "1 rows affected.\n",
      "1 rows affected.\n",
      "1 rows affected.\n",
      "1 rows affected.\n"
     ]
    },
    {
     "data": {
      "text/plain": [
       "[]"
      ]
     },
     "execution_count": 108,
     "metadata": {},
     "output_type": "execute_result"
    }
   ],
   "source": [
    "%%sql drop table if exists Flowers4;     --drops the table if it already exists\n",
    "create table Flowers4(\n",
    "       id       int,\n",
    "       type     string,\n",
    "       color    string,\n",
    "       leaves   int\n",
    ");\n",
    "insert into Flowers4 values('111', 'Daffodil', 'white', '3');\n",
    "insert into Flowers4 values('112', 'Daisy', 'white', '4');\n",
    "insert into Flowers4 values('113', 'Rose', 'red', '6');\n",
    "insert into Flowers4 values('114', 'Tulip', 'yellow', '2');\n",
    "insert into Flowers4 values('115', 'Violet', 'purple', '6');\n",
    "insert into Flowers4 values('116', 'Daffodil', 'white', '7');\n",
    "insert into Flowers4 values('117', 'Daisy', 'white', '3');\n",
    "insert into Flowers4 values('118', 'Rose', 'red', '5');\n",
    "insert into Flowers4 values('119', 'Tulip', 'yellow', '1');\n",
    "insert into Flowers4 values('120', 'Violet', 'purple', '2');"
   ]
  },
  {
   "cell_type": "markdown",
   "metadata": {},
   "source": [
    "### This prints the table Flowers4"
   ]
  },
  {
   "cell_type": "code",
   "execution_count": 109,
   "metadata": {},
   "outputs": [
    {
     "name": "stdout",
     "output_type": "stream",
     "text": [
      " * sqlite:///lab4.db3\n",
      "Done.\n"
     ]
    },
    {
     "data": {
      "text/html": [
       "<table>\n",
       "    <tr>\n",
       "        <th>id</th>\n",
       "        <th>type</th>\n",
       "        <th>color</th>\n",
       "        <th>leaves</th>\n",
       "    </tr>\n",
       "    <tr>\n",
       "        <td>111</td>\n",
       "        <td>Daffodil</td>\n",
       "        <td>white</td>\n",
       "        <td>3</td>\n",
       "    </tr>\n",
       "    <tr>\n",
       "        <td>112</td>\n",
       "        <td>Daisy</td>\n",
       "        <td>white</td>\n",
       "        <td>4</td>\n",
       "    </tr>\n",
       "    <tr>\n",
       "        <td>113</td>\n",
       "        <td>Rose</td>\n",
       "        <td>red</td>\n",
       "        <td>6</td>\n",
       "    </tr>\n",
       "    <tr>\n",
       "        <td>114</td>\n",
       "        <td>Tulip</td>\n",
       "        <td>yellow</td>\n",
       "        <td>2</td>\n",
       "    </tr>\n",
       "    <tr>\n",
       "        <td>115</td>\n",
       "        <td>Violet</td>\n",
       "        <td>purple</td>\n",
       "        <td>6</td>\n",
       "    </tr>\n",
       "    <tr>\n",
       "        <td>116</td>\n",
       "        <td>Daffodil</td>\n",
       "        <td>white</td>\n",
       "        <td>7</td>\n",
       "    </tr>\n",
       "    <tr>\n",
       "        <td>117</td>\n",
       "        <td>Daisy</td>\n",
       "        <td>white</td>\n",
       "        <td>3</td>\n",
       "    </tr>\n",
       "    <tr>\n",
       "        <td>118</td>\n",
       "        <td>Rose</td>\n",
       "        <td>red</td>\n",
       "        <td>5</td>\n",
       "    </tr>\n",
       "    <tr>\n",
       "        <td>119</td>\n",
       "        <td>Tulip</td>\n",
       "        <td>yellow</td>\n",
       "        <td>1</td>\n",
       "    </tr>\n",
       "    <tr>\n",
       "        <td>120</td>\n",
       "        <td>Violet</td>\n",
       "        <td>purple</td>\n",
       "        <td>2</td>\n",
       "    </tr>\n",
       "</table>"
      ],
      "text/plain": [
       "[(111, 'Daffodil', 'white', 3),\n",
       " (112, 'Daisy', 'white', 4),\n",
       " (113, 'Rose', 'red', 6),\n",
       " (114, 'Tulip', 'yellow', 2),\n",
       " (115, 'Violet', 'purple', 6),\n",
       " (116, 'Daffodil', 'white', 7),\n",
       " (117, 'Daisy', 'white', 3),\n",
       " (118, 'Rose', 'red', 5),\n",
       " (119, 'Tulip', 'yellow', 1),\n",
       " (120, 'Violet', 'purple', 2)]"
      ]
     },
     "execution_count": 109,
     "metadata": {},
     "output_type": "execute_result"
    }
   ],
   "source": [
    "%%sql\n",
    "select *\n",
    "from Flowers4"
   ]
  },
  {
   "cell_type": "markdown",
   "metadata": {},
   "source": [
    "### This tests the combination B and C (type and color)"
   ]
  },
  {
   "cell_type": "code",
   "execution_count": 110,
   "metadata": {},
   "outputs": [
    {
     "name": "stdout",
     "output_type": "stream",
     "text": [
      " * sqlite:///lab4.db3\n",
      "Done.\n"
     ]
    },
    {
     "data": {
      "text/html": [
       "<table>\n",
       "    <tr>\n",
       "        <th>COUNT(*)</th>\n",
       "    </tr>\n",
       "    <tr>\n",
       "        <td>10</td>\n",
       "    </tr>\n",
       "</table>"
      ],
      "text/plain": [
       "[(10,)]"
      ]
     },
     "execution_count": 110,
     "metadata": {},
     "output_type": "execute_result"
    }
   ],
   "source": [
    "%%sql\n",
    "SELECT COUNT(*)\n",
    "FROM Flowers4 F1, Flowers4 F2\n",
    "WHERE (F1.type = F2.type AND F1.color = F2.color) AND (F1.id != F2.id OR F1.leaves != F2.leaves)"
   ]
  },
  {
   "cell_type": "markdown",
   "metadata": {},
   "source": [
    "### Here, I created a new table similar to the original so combination B and D would fail"
   ]
  },
  {
   "cell_type": "code",
   "execution_count": 111,
   "metadata": {},
   "outputs": [
    {
     "name": "stdout",
     "output_type": "stream",
     "text": [
      " * sqlite:///lab4.db3\n",
      "Done.\n",
      "Done.\n",
      "1 rows affected.\n",
      "1 rows affected.\n",
      "1 rows affected.\n",
      "1 rows affected.\n",
      "1 rows affected.\n",
      "1 rows affected.\n",
      "1 rows affected.\n",
      "1 rows affected.\n",
      "1 rows affected.\n",
      "1 rows affected.\n"
     ]
    },
    {
     "data": {
      "text/plain": [
       "[]"
      ]
     },
     "execution_count": 111,
     "metadata": {},
     "output_type": "execute_result"
    }
   ],
   "source": [
    "%%sql drop table if exists Flowers5;     --drops the table if it already exists\n",
    "create table Flowers5(\n",
    "       id       int,\n",
    "       type     string,\n",
    "       color    string,\n",
    "       leaves   int\n",
    ");\n",
    "insert into Flowers5 values('111', 'Daffodil', 'white', '3');\n",
    "insert into Flowers5 values('112', 'Daisy', 'white', '4');\n",
    "insert into Flowers5 values('113', 'Rose', 'red', '6');\n",
    "insert into Flowers5 values('114', 'Tulip', 'yellow', '2');\n",
    "insert into Flowers5 values('115', 'Violet', 'purple', '6');\n",
    "insert into Flowers5 values('116', 'Daffodil', 'brown', '3');\n",
    "insert into Flowers5 values('117', 'Daisy', 'orange', '4');\n",
    "insert into Flowers5 values('118', 'Rose', 'pink', '6');\n",
    "insert into Flowers5 values('119', 'Tulip', 'white', '2');\n",
    "insert into Flowers5 values('120', 'Violet', 'magenta', '6');"
   ]
  },
  {
   "cell_type": "markdown",
   "metadata": {},
   "source": [
    "### This prints the table Flowers5"
   ]
  },
  {
   "cell_type": "code",
   "execution_count": 112,
   "metadata": {},
   "outputs": [
    {
     "name": "stdout",
     "output_type": "stream",
     "text": [
      " * sqlite:///lab4.db3\n",
      "Done.\n"
     ]
    },
    {
     "data": {
      "text/html": [
       "<table>\n",
       "    <tr>\n",
       "        <th>id</th>\n",
       "        <th>type</th>\n",
       "        <th>color</th>\n",
       "        <th>leaves</th>\n",
       "    </tr>\n",
       "    <tr>\n",
       "        <td>111</td>\n",
       "        <td>Daffodil</td>\n",
       "        <td>white</td>\n",
       "        <td>3</td>\n",
       "    </tr>\n",
       "    <tr>\n",
       "        <td>112</td>\n",
       "        <td>Daisy</td>\n",
       "        <td>white</td>\n",
       "        <td>4</td>\n",
       "    </tr>\n",
       "    <tr>\n",
       "        <td>113</td>\n",
       "        <td>Rose</td>\n",
       "        <td>red</td>\n",
       "        <td>6</td>\n",
       "    </tr>\n",
       "    <tr>\n",
       "        <td>114</td>\n",
       "        <td>Tulip</td>\n",
       "        <td>yellow</td>\n",
       "        <td>2</td>\n",
       "    </tr>\n",
       "    <tr>\n",
       "        <td>115</td>\n",
       "        <td>Violet</td>\n",
       "        <td>purple</td>\n",
       "        <td>6</td>\n",
       "    </tr>\n",
       "    <tr>\n",
       "        <td>116</td>\n",
       "        <td>Daffodil</td>\n",
       "        <td>brown</td>\n",
       "        <td>3</td>\n",
       "    </tr>\n",
       "    <tr>\n",
       "        <td>117</td>\n",
       "        <td>Daisy</td>\n",
       "        <td>orange</td>\n",
       "        <td>4</td>\n",
       "    </tr>\n",
       "    <tr>\n",
       "        <td>118</td>\n",
       "        <td>Rose</td>\n",
       "        <td>pink</td>\n",
       "        <td>6</td>\n",
       "    </tr>\n",
       "    <tr>\n",
       "        <td>119</td>\n",
       "        <td>Tulip</td>\n",
       "        <td>white</td>\n",
       "        <td>2</td>\n",
       "    </tr>\n",
       "    <tr>\n",
       "        <td>120</td>\n",
       "        <td>Violet</td>\n",
       "        <td>magenta</td>\n",
       "        <td>6</td>\n",
       "    </tr>\n",
       "</table>"
      ],
      "text/plain": [
       "[(111, 'Daffodil', 'white', 3),\n",
       " (112, 'Daisy', 'white', 4),\n",
       " (113, 'Rose', 'red', 6),\n",
       " (114, 'Tulip', 'yellow', 2),\n",
       " (115, 'Violet', 'purple', 6),\n",
       " (116, 'Daffodil', 'brown', 3),\n",
       " (117, 'Daisy', 'orange', 4),\n",
       " (118, 'Rose', 'pink', 6),\n",
       " (119, 'Tulip', 'white', 2),\n",
       " (120, 'Violet', 'magenta', 6)]"
      ]
     },
     "execution_count": 112,
     "metadata": {},
     "output_type": "execute_result"
    }
   ],
   "source": [
    "%%sql\n",
    "select *\n",
    "from Flowers5"
   ]
  },
  {
   "cell_type": "markdown",
   "metadata": {},
   "source": [
    "### This tests the combination B and D (type and leaves)"
   ]
  },
  {
   "cell_type": "code",
   "execution_count": 113,
   "metadata": {},
   "outputs": [
    {
     "name": "stdout",
     "output_type": "stream",
     "text": [
      " * sqlite:///lab4.db3\n",
      "Done.\n"
     ]
    },
    {
     "data": {
      "text/html": [
       "<table>\n",
       "    <tr>\n",
       "        <th>COUNT(*)</th>\n",
       "    </tr>\n",
       "    <tr>\n",
       "        <td>10</td>\n",
       "    </tr>\n",
       "</table>"
      ],
      "text/plain": [
       "[(10,)]"
      ]
     },
     "execution_count": 113,
     "metadata": {},
     "output_type": "execute_result"
    }
   ],
   "source": [
    "%%sql\n",
    "SELECT COUNT(*)\n",
    "FROM Flowers5 F1, Flowers5 F2\n",
    "WHERE (F1.type = F2.type AND F1.leaves = F2.leaves) AND (F1.id != F2.id OR F1.color != F2.color)"
   ]
  },
  {
   "cell_type": "markdown",
   "metadata": {},
   "source": [
    "### Here, I created a new table similar to the original so combination C and D would fail"
   ]
  },
  {
   "cell_type": "code",
   "execution_count": 114,
   "metadata": {},
   "outputs": [
    {
     "name": "stdout",
     "output_type": "stream",
     "text": [
      " * sqlite:///lab4.db3\n",
      "Done.\n",
      "Done.\n",
      "1 rows affected.\n",
      "1 rows affected.\n",
      "1 rows affected.\n",
      "1 rows affected.\n",
      "1 rows affected.\n",
      "1 rows affected.\n",
      "1 rows affected.\n",
      "1 rows affected.\n",
      "1 rows affected.\n",
      "1 rows affected.\n"
     ]
    },
    {
     "data": {
      "text/plain": [
       "[]"
      ]
     },
     "execution_count": 114,
     "metadata": {},
     "output_type": "execute_result"
    }
   ],
   "source": [
    "%%sql drop table if exists Flowers6;     --drops the table if it already exists\n",
    "create table Flowers6(\n",
    "       id       int,\n",
    "       type     string,\n",
    "       color    string,\n",
    "       leaves   int\n",
    ");\n",
    "insert into Flowers6 values('111', 'Daffodil', 'white', '3');\n",
    "insert into Flowers6 values('112', 'Daisy', 'orange', '4');\n",
    "insert into Flowers6 values('113', 'Rose', 'red', '6');\n",
    "insert into Flowers6 values('114', 'Tulip', 'yellow', '2');\n",
    "insert into Flowers6 values('115', 'Violet', 'purple', '5');\n",
    "insert into Flowers6 values('116', 'Daffodil', 'white', '3');\n",
    "insert into Flowers6 values('117', 'Daisy', 'orange', '4');\n",
    "insert into Flowers6 values('118', 'Rose', 'red', '6');\n",
    "insert into Flowers6 values('119', 'Tulip', 'yellow', '2');\n",
    "insert into Flowers6 values('120', 'Violet', 'purple', '5');"
   ]
  },
  {
   "cell_type": "markdown",
   "metadata": {},
   "source": [
    "### This prints the table Flowers6"
   ]
  },
  {
   "cell_type": "code",
   "execution_count": 115,
   "metadata": {},
   "outputs": [
    {
     "name": "stdout",
     "output_type": "stream",
     "text": [
      " * sqlite:///lab4.db3\n",
      "Done.\n"
     ]
    },
    {
     "data": {
      "text/html": [
       "<table>\n",
       "    <tr>\n",
       "        <th>id</th>\n",
       "        <th>type</th>\n",
       "        <th>color</th>\n",
       "        <th>leaves</th>\n",
       "    </tr>\n",
       "    <tr>\n",
       "        <td>111</td>\n",
       "        <td>Daffodil</td>\n",
       "        <td>white</td>\n",
       "        <td>3</td>\n",
       "    </tr>\n",
       "    <tr>\n",
       "        <td>112</td>\n",
       "        <td>Daisy</td>\n",
       "        <td>orange</td>\n",
       "        <td>4</td>\n",
       "    </tr>\n",
       "    <tr>\n",
       "        <td>113</td>\n",
       "        <td>Rose</td>\n",
       "        <td>red</td>\n",
       "        <td>6</td>\n",
       "    </tr>\n",
       "    <tr>\n",
       "        <td>114</td>\n",
       "        <td>Tulip</td>\n",
       "        <td>yellow</td>\n",
       "        <td>2</td>\n",
       "    </tr>\n",
       "    <tr>\n",
       "        <td>115</td>\n",
       "        <td>Violet</td>\n",
       "        <td>purple</td>\n",
       "        <td>5</td>\n",
       "    </tr>\n",
       "    <tr>\n",
       "        <td>116</td>\n",
       "        <td>Daffodil</td>\n",
       "        <td>white</td>\n",
       "        <td>3</td>\n",
       "    </tr>\n",
       "    <tr>\n",
       "        <td>117</td>\n",
       "        <td>Daisy</td>\n",
       "        <td>orange</td>\n",
       "        <td>4</td>\n",
       "    </tr>\n",
       "    <tr>\n",
       "        <td>118</td>\n",
       "        <td>Rose</td>\n",
       "        <td>red</td>\n",
       "        <td>6</td>\n",
       "    </tr>\n",
       "    <tr>\n",
       "        <td>119</td>\n",
       "        <td>Tulip</td>\n",
       "        <td>yellow</td>\n",
       "        <td>2</td>\n",
       "    </tr>\n",
       "    <tr>\n",
       "        <td>120</td>\n",
       "        <td>Violet</td>\n",
       "        <td>purple</td>\n",
       "        <td>5</td>\n",
       "    </tr>\n",
       "</table>"
      ],
      "text/plain": [
       "[(111, 'Daffodil', 'white', 3),\n",
       " (112, 'Daisy', 'orange', 4),\n",
       " (113, 'Rose', 'red', 6),\n",
       " (114, 'Tulip', 'yellow', 2),\n",
       " (115, 'Violet', 'purple', 5),\n",
       " (116, 'Daffodil', 'white', 3),\n",
       " (117, 'Daisy', 'orange', 4),\n",
       " (118, 'Rose', 'red', 6),\n",
       " (119, 'Tulip', 'yellow', 2),\n",
       " (120, 'Violet', 'purple', 5)]"
      ]
     },
     "execution_count": 115,
     "metadata": {},
     "output_type": "execute_result"
    }
   ],
   "source": [
    "%%sql\n",
    "select *\n",
    "from Flowers6"
   ]
  },
  {
   "cell_type": "markdown",
   "metadata": {},
   "source": [
    "### This tests the combination C and D (color and leaves)"
   ]
  },
  {
   "cell_type": "code",
   "execution_count": 116,
   "metadata": {},
   "outputs": [
    {
     "name": "stdout",
     "output_type": "stream",
     "text": [
      " * sqlite:///lab4.db3\n",
      "Done.\n"
     ]
    },
    {
     "data": {
      "text/html": [
       "<table>\n",
       "    <tr>\n",
       "        <th>COUNT(*)</th>\n",
       "    </tr>\n",
       "    <tr>\n",
       "        <td>10</td>\n",
       "    </tr>\n",
       "</table>"
      ],
      "text/plain": [
       "[(10,)]"
      ]
     },
     "execution_count": 116,
     "metadata": {},
     "output_type": "execute_result"
    }
   ],
   "source": [
    "%%sql\n",
    "SELECT COUNT(*)\n",
    "FROM Flowers6 F1, Flowers6 F2\n",
    "WHERE (F1.color = F2.color AND F1.leaves = F2.leaves) AND (F1.id != F2.id OR F1.type != F2.type)"
   ]
  },
  {
   "cell_type": "markdown",
   "metadata": {},
   "source": [
    "# Question 3\n",
    "## For this question, I am using a Sailors table and 2 Reserves tables. One Reserves table meets the conditions and the other does not."
   ]
  },
  {
   "cell_type": "markdown",
   "metadata": {},
   "source": [
    "### This is the Sailors table"
   ]
  },
  {
   "cell_type": "code",
   "execution_count": 117,
   "metadata": {},
   "outputs": [
    {
     "name": "stdout",
     "output_type": "stream",
     "text": [
      " * sqlite:///lab4.db3\n",
      "Done.\n",
      "Done.\n",
      "1 rows affected.\n",
      "1 rows affected.\n",
      "1 rows affected.\n",
      "1 rows affected.\n",
      "1 rows affected.\n"
     ]
    },
    {
     "data": {
      "text/plain": [
       "[]"
      ]
     },
     "execution_count": 117,
     "metadata": {},
     "output_type": "execute_result"
    }
   ],
   "source": [
    "%%sql drop table if exists Sailors;     --drops the table if it already exists\n",
    "create table Sailors(\n",
    "       sid       int primary key,\n",
    "       sname     string,\n",
    "       rating    int,\n",
    "       age       float\n",
    ");\n",
    "insert into Sailors values('22', 'dustin', '7', '45.0');\n",
    "insert into Sailors values('31', 'lubber', '8', '55.5');\n",
    "insert into Sailors values('58', 'rusty', '10', '35.0');\n",
    "insert into Sailors values('45', 'redbeard', '12', '40.0');\n",
    "insert into Sailors values('61', 'blackbeard', '9', '41.0');"
   ]
  },
  {
   "cell_type": "markdown",
   "metadata": {},
   "source": [
    "### This is the correct Reserves table"
   ]
  },
  {
   "cell_type": "code",
   "execution_count": 118,
   "metadata": {},
   "outputs": [
    {
     "name": "stdout",
     "output_type": "stream",
     "text": [
      " * sqlite:///lab4.db3\n",
      "Done.\n",
      "Done.\n",
      "Done.\n",
      "1 rows affected.\n",
      "1 rows affected.\n",
      "1 rows affected.\n",
      "1 rows affected.\n",
      "1 rows affected.\n"
     ]
    },
    {
     "data": {
      "text/plain": [
       "[]"
      ]
     },
     "execution_count": 118,
     "metadata": {},
     "output_type": "execute_result"
    }
   ],
   "source": [
    "%%sql drop table if exists Reserves;\n",
    "pragma foreign_keys = ON;\n",
    "create table Reserves(\n",
    "       sid     int,\n",
    "       bid     int,\n",
    "       sname   string,\n",
    "       bname   string,\n",
    "       date    date primary key\n",
    ");\n",
    "insert into Reserves values('22', '101', 'dustin', 'clipper', '10/10/96');\n",
    "insert into Reserves values('31', '105', 'lubber', 'watercar', '12/11/96');\n",
    "insert into Reserves values('58', '103', 'rusty', 'boaty', '11/12/96');\n",
    "insert into Reserves values('45', '101', 'redbeard', 'clipper', '10/20/96');\n",
    "insert into Reserves values('61', '104', 'blackbeard', 'floaty', '11/14/96');"
   ]
  },
  {
   "cell_type": "markdown",
   "metadata": {},
   "source": [
    "### This is the incorrect Reserves table"
   ]
  },
  {
   "cell_type": "code",
   "execution_count": 119,
   "metadata": {},
   "outputs": [
    {
     "name": "stdout",
     "output_type": "stream",
     "text": [
      " * sqlite:///lab4.db3\n",
      "Done.\n",
      "Done.\n",
      "Done.\n",
      "1 rows affected.\n",
      "1 rows affected.\n",
      "1 rows affected.\n",
      "1 rows affected.\n",
      "1 rows affected.\n"
     ]
    },
    {
     "data": {
      "text/plain": [
       "[]"
      ]
     },
     "execution_count": 119,
     "metadata": {},
     "output_type": "execute_result"
    }
   ],
   "source": [
    "%%sql drop table if exists WrongReserves;\n",
    "pragma foreign_keys = ON;\n",
    "create table WrongReserves(\n",
    "       sid     int,\n",
    "       bid     int,\n",
    "       sname   string,\n",
    "       bname   string,\n",
    "       date    date primary key\n",
    ");\n",
    "insert into WrongReserves values('22', '101', 'dustin', 'clipper', '10/10/96');\n",
    "insert into WrongReserves values('31', '105', 'lubber', 'watercar', '12/11/96');\n",
    "insert into WrongReserves values('58', '103', 'rusty', 'boaty', '11/12/96');\n",
    "insert into WrongReserves values('45', '101', 'redbeard', 'clipper', '10/20/96');\n",
    "insert into WrongReserves values('61', '104', 'bluebeard', 'floaty', '11/14/96');"
   ]
  },
  {
   "cell_type": "markdown",
   "metadata": {},
   "source": [
    "### This checks for a TGD between Sailors and Reserves"
   ]
  },
  {
   "cell_type": "code",
   "execution_count": 120,
   "metadata": {},
   "outputs": [
    {
     "name": "stdout",
     "output_type": "stream",
     "text": [
      " * sqlite:///lab4.db3\n",
      "Done.\n"
     ]
    },
    {
     "data": {
      "text/html": [
       "<table>\n",
       "    <tr>\n",
       "        <th>sid</th>\n",
       "        <th>sname</th>\n",
       "        <th>rating</th>\n",
       "        <th>age</th>\n",
       "    </tr>\n",
       "</table>"
      ],
      "text/plain": [
       "[]"
      ]
     },
     "execution_count": 120,
     "metadata": {},
     "output_type": "execute_result"
    }
   ],
   "source": [
    "%%sql\n",
    "SELECT *\n",
    "FROM Sailors s\n",
    "WHERE NOT EXISTS(\n",
    "    SELECT *\n",
    "    FROM Reserves r\n",
    "    WHERE s.sid = r.sid AND s.sname = r.sname)"
   ]
  },
  {
   "cell_type": "markdown",
   "metadata": {},
   "source": [
    "### This checks for a TGD between Sailors and WrongReserves"
   ]
  },
  {
   "cell_type": "code",
   "execution_count": 121,
   "metadata": {},
   "outputs": [
    {
     "name": "stdout",
     "output_type": "stream",
     "text": [
      " * sqlite:///lab4.db3\n",
      "Done.\n"
     ]
    },
    {
     "data": {
      "text/html": [
       "<table>\n",
       "    <tr>\n",
       "        <th>COUNT(*)</th>\n",
       "    </tr>\n",
       "    <tr>\n",
       "        <td>1</td>\n",
       "    </tr>\n",
       "</table>"
      ],
      "text/plain": [
       "[(1,)]"
      ]
     },
     "execution_count": 121,
     "metadata": {},
     "output_type": "execute_result"
    }
   ],
   "source": [
    "%%sql\n",
    "SELECT COUNT(*)\n",
    "FROM Sailors s\n",
    "WHERE NOT EXISTS(\n",
    "    SELECT *\n",
    "    FROM WrongReserves w\n",
    "    WHERE s.sid = w.sid AND s.sname = w.sname)"
   ]
  }
 ],
 "metadata": {
  "kernelspec": {
   "display_name": "Python 3",
   "language": "python",
   "name": "python3"
  },
  "language_info": {
   "codemirror_mode": {
    "name": "ipython",
    "version": 3
   },
   "file_extension": ".py",
   "mimetype": "text/x-python",
   "name": "python",
   "nbconvert_exporter": "python",
   "pygments_lexer": "ipython3",
   "version": "3.8.3"
  }
 },
 "nbformat": 4,
 "nbformat_minor": 4
}
