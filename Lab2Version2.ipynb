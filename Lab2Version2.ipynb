{
 "cells": [
  {
   "cell_type": "markdown",
   "metadata": {},
   "source": [
    "# Alexis Weintraub, RH"
   ]
  },
  {
   "cell_type": "markdown",
   "metadata": {},
   "source": [
    "### This loads the sql extension:"
   ]
  },
  {
   "cell_type": "code",
   "execution_count": 1,
   "metadata": {},
   "outputs": [],
   "source": [
    "%load_ext sql"
   ]
  },
  {
   "cell_type": "markdown",
   "metadata": {},
   "source": [
    "## Q1: This creates the database:"
   ]
  },
  {
   "cell_type": "code",
   "execution_count": 2,
   "metadata": {
    "scrolled": true
   },
   "outputs": [
    {
     "name": "stdout",
     "output_type": "stream",
     "text": [
      "0 rows affected.\n"
     ]
    },
    {
     "data": {
      "text/plain": [
       "[]"
      ]
     },
     "execution_count": 2,
     "metadata": {},
     "output_type": "execute_result"
    }
   ],
   "source": [
    "%sql sqlite:///lab2.db3            --(Q1) Creates the database"
   ]
  },
  {
   "cell_type": "markdown",
   "metadata": {},
   "source": [
    "## Q2: The following creates the three tables from the instrucitons and inserts their data"
   ]
  },
  {
   "cell_type": "markdown",
   "metadata": {},
   "source": [
    "### Q2.1: This creates a table for Sailors:"
   ]
  },
  {
   "cell_type": "code",
   "execution_count": 3,
   "metadata": {},
   "outputs": [
    {
     "name": "stdout",
     "output_type": "stream",
     "text": [
      " * sqlite:///lab2.db3\n",
      "Done.\n",
      "Done.\n",
      "1 rows affected.\n",
      "1 rows affected.\n",
      "1 rows affected.\n",
      "1 rows affected.\n",
      "1 rows affected.\n"
     ]
    },
    {
     "data": {
      "text/plain": [
       "[]"
      ]
     },
     "execution_count": 3,
     "metadata": {},
     "output_type": "execute_result"
    }
   ],
   "source": [
    "%%sql drop table if exists Sailors;     --drops the table if it already exists\n",
    "create table Sailors(                   --(Q2.1) creates a table for Sailors\n",
    "       sid       int primary key,       --sets sid as the primary key for the table\n",
    "       sname     string,\n",
    "       rating    int,\n",
    "       age       float\n",
    ");\n",
    "insert into Sailors values('22', 'dustin', '7', '45.0');     --inserts data into the table\n",
    "insert into Sailors values('31', 'lubber', '8', '55.5');\n",
    "insert into Sailors values('58', 'rusty', '10', '35.0');\n",
    "insert into Sailors values('10', 'redbeard', '9', '22.0');\n",
    "insert into Sailors values('11', 'greenbeard', '12', '34.0');"
   ]
  },
  {
   "cell_type": "markdown",
   "metadata": {},
   "source": [
    "#### This prints the Sailors table:"
   ]
  },
  {
   "cell_type": "code",
   "execution_count": 4,
   "metadata": {
    "scrolled": true
   },
   "outputs": [
    {
     "name": "stdout",
     "output_type": "stream",
     "text": [
      " * sqlite:///lab2.db3\n",
      "Done.\n"
     ]
    },
    {
     "data": {
      "text/html": [
       "<table>\n",
       "    <tr>\n",
       "        <th>sid</th>\n",
       "        <th>sname</th>\n",
       "        <th>rating</th>\n",
       "        <th>age</th>\n",
       "    </tr>\n",
       "    <tr>\n",
       "        <td>22</td>\n",
       "        <td>dustin</td>\n",
       "        <td>7</td>\n",
       "        <td>45.0</td>\n",
       "    </tr>\n",
       "    <tr>\n",
       "        <td>31</td>\n",
       "        <td>lubber</td>\n",
       "        <td>8</td>\n",
       "        <td>55.5</td>\n",
       "    </tr>\n",
       "    <tr>\n",
       "        <td>58</td>\n",
       "        <td>rusty</td>\n",
       "        <td>10</td>\n",
       "        <td>35.0</td>\n",
       "    </tr>\n",
       "    <tr>\n",
       "        <td>10</td>\n",
       "        <td>redbeard</td>\n",
       "        <td>9</td>\n",
       "        <td>22.0</td>\n",
       "    </tr>\n",
       "    <tr>\n",
       "        <td>11</td>\n",
       "        <td>greenbeard</td>\n",
       "        <td>12</td>\n",
       "        <td>34.0</td>\n",
       "    </tr>\n",
       "</table>"
      ],
      "text/plain": [
       "[(22, 'dustin', 7, 45.0),\n",
       " (31, 'lubber', 8, 55.5),\n",
       " (58, 'rusty', 10, 35.0),\n",
       " (10, 'redbeard', 9, 22.0),\n",
       " (11, 'greenbeard', 12, 34.0)]"
      ]
     },
     "execution_count": 4,
     "metadata": {},
     "output_type": "execute_result"
    }
   ],
   "source": [
    "%sql select * from Sailors;"
   ]
  },
  {
   "cell_type": "markdown",
   "metadata": {},
   "source": [
    "### Q2.2: This creates a table for Boats:"
   ]
  },
  {
   "cell_type": "code",
   "execution_count": 5,
   "metadata": {},
   "outputs": [
    {
     "name": "stdout",
     "output_type": "stream",
     "text": [
      " * sqlite:///lab2.db3\n",
      "Done.\n",
      "Done.\n",
      "1 rows affected.\n",
      "1 rows affected.\n",
      "1 rows affected.\n",
      "1 rows affected.\n"
     ]
    },
    {
     "data": {
      "text/plain": [
       "[]"
      ]
     },
     "execution_count": 5,
     "metadata": {},
     "output_type": "execute_result"
    }
   ],
   "source": [
    "%%sql drop table if exists Boats;       --drops the table if it already exists\n",
    "create table Boats(                     --(Q2.2) creates a table for Boats\n",
    "       bid     int primary key,         --sets bid as the primary key for the table\n",
    "       name    string,\n",
    "       color   string\n",
    ");\n",
    "insert into Boats values('101', 'interlake', 'red');        --inserts data into the table\n",
    "insert into Boats values('103', 'clipper', 'green');        --also adds data not in the instructions to run more accurate tests\n",
    "insert into Boats values('102', 'boaty', 'red');\n",
    "insert into Boats values('104', 'mayflower', 'yellow');"
   ]
  },
  {
   "cell_type": "markdown",
   "metadata": {},
   "source": [
    "#### This prints the Boats table:"
   ]
  },
  {
   "cell_type": "code",
   "execution_count": 6,
   "metadata": {},
   "outputs": [
    {
     "name": "stdout",
     "output_type": "stream",
     "text": [
      " * sqlite:///lab2.db3\n",
      "Done.\n"
     ]
    },
    {
     "data": {
      "text/html": [
       "<table>\n",
       "    <tr>\n",
       "        <th>bid</th>\n",
       "        <th>name</th>\n",
       "        <th>color</th>\n",
       "    </tr>\n",
       "    <tr>\n",
       "        <td>101</td>\n",
       "        <td>interlake</td>\n",
       "        <td>red</td>\n",
       "    </tr>\n",
       "    <tr>\n",
       "        <td>103</td>\n",
       "        <td>clipper</td>\n",
       "        <td>green</td>\n",
       "    </tr>\n",
       "    <tr>\n",
       "        <td>102</td>\n",
       "        <td>boaty</td>\n",
       "        <td>red</td>\n",
       "    </tr>\n",
       "    <tr>\n",
       "        <td>104</td>\n",
       "        <td>mayflower</td>\n",
       "        <td>yellow</td>\n",
       "    </tr>\n",
       "</table>"
      ],
      "text/plain": [
       "[(101, 'interlake', 'red'),\n",
       " (103, 'clipper', 'green'),\n",
       " (102, 'boaty', 'red'),\n",
       " (104, 'mayflower', 'yellow')]"
      ]
     },
     "execution_count": 6,
     "metadata": {},
     "output_type": "execute_result"
    }
   ],
   "source": [
    "%sql select * from Boats;"
   ]
  },
  {
   "cell_type": "markdown",
   "metadata": {},
   "source": [
    "### Q2.3: This creates a table for Reserves:"
   ]
  },
  {
   "cell_type": "code",
   "execution_count": 7,
   "metadata": {},
   "outputs": [
    {
     "name": "stdout",
     "output_type": "stream",
     "text": [
      " * sqlite:///lab2.db3\n",
      "Done.\n",
      "Done.\n",
      "Done.\n",
      "1 rows affected.\n",
      "1 rows affected.\n",
      "1 rows affected.\n",
      "1 rows affected.\n",
      "1 rows affected.\n",
      "1 rows affected.\n",
      "1 rows affected.\n",
      "1 rows affected.\n"
     ]
    },
    {
     "data": {
      "text/plain": [
       "[]"
      ]
     },
     "execution_count": 7,
     "metadata": {},
     "output_type": "execute_result"
    }
   ],
   "source": [
    "%%sql drop table if exists Reserves;              --drops the table if it already exists\n",
    "pragma foreign_keys = ON;\n",
    "create table Reserves(                            --(Q2.3) creates a table for Reserves\n",
    "       sid     int,\n",
    "       bid     int,\n",
    "       day     date,\n",
    "       primary key(sid, bid, day),                --makes sid, bid, and day primary key constraints\n",
    "       foreign key(sid) references Sailors(sid),\n",
    "       foreign key(bid) references Boats(bid)\n",
    ");\n",
    "insert into Reserves values('22', '101', '10/10/96');   --inserts data into the table\n",
    "insert into Reserves values('58', '103', '11/12/96');   --also adds data not in the instructions to run more accurate tests\n",
    "insert into Reserves values('58', '102', '11/14/96');\n",
    "insert into Reserves values('31', '104', '10/26/96');\n",
    "insert into Reserves values('31', '102', '10/25/96');\n",
    "insert into Reserves values('10', '101', '11/25/96');\n",
    "insert into Reserves values('11', '103', '12/25/96');\n",
    "insert into Reserves values('11', '101', '12/24/96');"
   ]
  },
  {
   "cell_type": "markdown",
   "metadata": {},
   "source": [
    "#### This prints the Reserves table:"
   ]
  },
  {
   "cell_type": "code",
   "execution_count": 8,
   "metadata": {},
   "outputs": [
    {
     "name": "stdout",
     "output_type": "stream",
     "text": [
      " * sqlite:///lab2.db3\n",
      "Done.\n"
     ]
    },
    {
     "data": {
      "text/html": [
       "<table>\n",
       "    <tr>\n",
       "        <th>sid</th>\n",
       "        <th>bid</th>\n",
       "        <th>day</th>\n",
       "    </tr>\n",
       "    <tr>\n",
       "        <td>22</td>\n",
       "        <td>101</td>\n",
       "        <td>10/10/96</td>\n",
       "    </tr>\n",
       "    <tr>\n",
       "        <td>58</td>\n",
       "        <td>103</td>\n",
       "        <td>11/12/96</td>\n",
       "    </tr>\n",
       "    <tr>\n",
       "        <td>58</td>\n",
       "        <td>102</td>\n",
       "        <td>11/14/96</td>\n",
       "    </tr>\n",
       "    <tr>\n",
       "        <td>31</td>\n",
       "        <td>104</td>\n",
       "        <td>10/26/96</td>\n",
       "    </tr>\n",
       "    <tr>\n",
       "        <td>31</td>\n",
       "        <td>102</td>\n",
       "        <td>10/25/96</td>\n",
       "    </tr>\n",
       "    <tr>\n",
       "        <td>10</td>\n",
       "        <td>101</td>\n",
       "        <td>11/25/96</td>\n",
       "    </tr>\n",
       "    <tr>\n",
       "        <td>11</td>\n",
       "        <td>103</td>\n",
       "        <td>12/25/96</td>\n",
       "    </tr>\n",
       "    <tr>\n",
       "        <td>11</td>\n",
       "        <td>101</td>\n",
       "        <td>12/24/96</td>\n",
       "    </tr>\n",
       "</table>"
      ],
      "text/plain": [
       "[(22, 101, '10/10/96'),\n",
       " (58, 103, '11/12/96'),\n",
       " (58, 102, '11/14/96'),\n",
       " (31, 104, '10/26/96'),\n",
       " (31, 102, '10/25/96'),\n",
       " (10, 101, '11/25/96'),\n",
       " (11, 103, '12/25/96'),\n",
       " (11, 101, '12/24/96')]"
      ]
     },
     "execution_count": 8,
     "metadata": {},
     "output_type": "execute_result"
    }
   ],
   "source": [
    "%sql select * from Reserves;"
   ]
  },
  {
   "cell_type": "markdown",
   "metadata": {},
   "source": [
    "## Q3: This finds names of Sailors who have reserved Boat 103\n",
    "### Data is taken from the Sailors and the Reserves tables"
   ]
  },
  {
   "cell_type": "code",
   "execution_count": 9,
   "metadata": {},
   "outputs": [
    {
     "name": "stdout",
     "output_type": "stream",
     "text": [
      " * sqlite:///lab2.db3\n",
      "Done.\n"
     ]
    },
    {
     "data": {
      "text/html": [
       "<table>\n",
       "    <tr>\n",
       "        <th>sname</th>\n",
       "    </tr>\n",
       "    <tr>\n",
       "        <td>rusty</td>\n",
       "    </tr>\n",
       "    <tr>\n",
       "        <td>greenbeard</td>\n",
       "    </tr>\n",
       "</table>"
      ],
      "text/plain": [
       "[('rusty',), ('greenbeard',)]"
      ]
     },
     "execution_count": 9,
     "metadata": {},
     "output_type": "execute_result"
    }
   ],
   "source": [
    "%%sql\n",
    "SELECT sname                          --Selects the sname column from the Sailors table\n",
    "FROM   Sailors, Reserves              --Takes data from the Sailors and Reserves table\n",
    "WHERE  Sailors.sid = Reserves.sid     --Sailors.sid and Reserves.sid must equal each other (these are the sailors that reserved boat 103)\n",
    "AND bid = '103';                      --bid must equal 103"
   ]
  },
  {
   "cell_type": "markdown",
   "metadata": {},
   "source": [
    "## Q4: This finds names of sailors who’ve reserved a red boat\n",
    "### I completed this question in two different ways"
   ]
  },
  {
   "cell_type": "markdown",
   "metadata": {},
   "source": [
    "#### The first way uses one SFW query with two AND conditons:"
   ]
  },
  {
   "cell_type": "code",
   "execution_count": 10,
   "metadata": {},
   "outputs": [
    {
     "name": "stdout",
     "output_type": "stream",
     "text": [
      " * sqlite:///lab2.db3\n",
      "Done.\n"
     ]
    },
    {
     "data": {
      "text/html": [
       "<table>\n",
       "    <tr>\n",
       "        <th>sname</th>\n",
       "    </tr>\n",
       "    <tr>\n",
       "        <td>dustin</td>\n",
       "    </tr>\n",
       "    <tr>\n",
       "        <td>rusty</td>\n",
       "    </tr>\n",
       "    <tr>\n",
       "        <td>lubber</td>\n",
       "    </tr>\n",
       "    <tr>\n",
       "        <td>redbeard</td>\n",
       "    </tr>\n",
       "    <tr>\n",
       "        <td>greenbeard</td>\n",
       "    </tr>\n",
       "</table>"
      ],
      "text/plain": [
       "[('dustin',), ('rusty',), ('lubber',), ('redbeard',), ('greenbeard',)]"
      ]
     },
     "execution_count": 10,
     "metadata": {},
     "output_type": "execute_result"
    }
   ],
   "source": [
    "%%sql\n",
    "SELECT DISTINCT sname                         --Selects the sname column from the Sailors table (uses DISTINCT in case some sailors reserved more than 1 red boat)\n",
    "FROM Sailors, Boats, Reserves                 --Takes data from the Sailors, Boats, and Reserves table (this is inefficient)\n",
    "WHERE Sailors.sid = Reserves.sid              --Sailors.sid and Reserves.sid must equal each other\n",
    "AND Reserves.bid = Boats.bid                  --Reserves.bid and Boats.bid must also equal each other\n",
    "AND color = 'red';                            --Color must also be red"
   ]
  },
  {
   "cell_type": "markdown",
   "metadata": {},
   "source": [
    "#### The second way uses a nested query and is more efficient:"
   ]
  },
  {
   "cell_type": "code",
   "execution_count": 11,
   "metadata": {},
   "outputs": [
    {
     "name": "stdout",
     "output_type": "stream",
     "text": [
      " * sqlite:///lab2.db3\n",
      "Done.\n"
     ]
    },
    {
     "data": {
      "text/html": [
       "<table>\n",
       "    <tr>\n",
       "        <th>sname</th>\n",
       "    </tr>\n",
       "    <tr>\n",
       "        <td>redbeard</td>\n",
       "    </tr>\n",
       "    <tr>\n",
       "        <td>greenbeard</td>\n",
       "    </tr>\n",
       "    <tr>\n",
       "        <td>dustin</td>\n",
       "    </tr>\n",
       "    <tr>\n",
       "        <td>lubber</td>\n",
       "    </tr>\n",
       "    <tr>\n",
       "        <td>rusty</td>\n",
       "    </tr>\n",
       "</table>"
      ],
      "text/plain": [
       "[('redbeard',), ('greenbeard',), ('dustin',), ('lubber',), ('rusty',)]"
      ]
     },
     "execution_count": 11,
     "metadata": {},
     "output_type": "execute_result"
    }
   ],
   "source": [
    "%%sql\n",
    "SELECT DISTINCT sname                         --Selects the sname column from the Sailors table (uses DISTINCT in case some sailors reserved more than 1 red boat)\n",
    "FROM Sailors\n",
    "WHERE sid IN(                                 --Filters the data so the code does not have to examine ALL the data in the 3 tables\n",
    "            SELECT sid\n",
    "            FROM Reserves, Boats\n",
    "            WHERE Reserves.bid = Boats.bid\n",
    "            AND Color = \"red\"\n",
    ");"
   ]
  },
  {
   "cell_type": "markdown",
   "metadata": {},
   "source": [
    "## Q5: This finds names of sailors who have reserved a red or a green boat\n",
    "### I also completed this question in two different ways"
   ]
  },
  {
   "cell_type": "markdown",
   "metadata": {},
   "source": [
    "#### The first way uses one SFW query with two AND conditions and an OR condition:"
   ]
  },
  {
   "cell_type": "code",
   "execution_count": 12,
   "metadata": {},
   "outputs": [
    {
     "name": "stdout",
     "output_type": "stream",
     "text": [
      " * sqlite:///lab2.db3\n",
      "Done.\n"
     ]
    },
    {
     "data": {
      "text/html": [
       "<table>\n",
       "    <tr>\n",
       "        <th>sname</th>\n",
       "    </tr>\n",
       "    <tr>\n",
       "        <td>dustin</td>\n",
       "    </tr>\n",
       "    <tr>\n",
       "        <td>lubber</td>\n",
       "    </tr>\n",
       "    <tr>\n",
       "        <td>rusty</td>\n",
       "    </tr>\n",
       "    <tr>\n",
       "        <td>redbeard</td>\n",
       "    </tr>\n",
       "    <tr>\n",
       "        <td>greenbeard</td>\n",
       "    </tr>\n",
       "</table>"
      ],
      "text/plain": [
       "[('dustin',), ('lubber',), ('rusty',), ('redbeard',), ('greenbeard',)]"
      ]
     },
     "execution_count": 12,
     "metadata": {},
     "output_type": "execute_result"
    }
   ],
   "source": [
    "%%sql\n",
    "SELECT DISTINCT sname                 --Selects the sname column from the Sailors table\n",
    "FROM Sailors, Boats, Reserves         --Takes data from the Sailors, Boats, and Reserves table\n",
    "WHERE Sailors.sid = Reserves.sid      --Sailors.sid must equal each other\n",
    "AND Reserves.bid = Boats.bid          --Reserves.bid and Boats.bid must also equal each other\n",
    "AND color = 'red'                     --Color must be red OR green\n",
    "OR color = 'green';"
   ]
  },
  {
   "cell_type": "markdown",
   "metadata": {},
   "source": [
    "#### The second way uses a nested query and is more efficient:"
   ]
  },
  {
   "cell_type": "code",
   "execution_count": 13,
   "metadata": {},
   "outputs": [
    {
     "name": "stdout",
     "output_type": "stream",
     "text": [
      " * sqlite:///lab2.db3\n",
      "Done.\n"
     ]
    },
    {
     "data": {
      "text/html": [
       "<table>\n",
       "    <tr>\n",
       "        <th>sname</th>\n",
       "    </tr>\n",
       "    <tr>\n",
       "        <td>redbeard</td>\n",
       "    </tr>\n",
       "    <tr>\n",
       "        <td>greenbeard</td>\n",
       "    </tr>\n",
       "    <tr>\n",
       "        <td>dustin</td>\n",
       "    </tr>\n",
       "    <tr>\n",
       "        <td>lubber</td>\n",
       "    </tr>\n",
       "    <tr>\n",
       "        <td>rusty</td>\n",
       "    </tr>\n",
       "</table>"
      ],
      "text/plain": [
       "[('redbeard',), ('greenbeard',), ('dustin',), ('lubber',), ('rusty',)]"
      ]
     },
     "execution_count": 13,
     "metadata": {},
     "output_type": "execute_result"
    }
   ],
   "source": [
    "%%sql\n",
    "SELECT DISTINCT sname                           --Selects the sname column from the Sailors table (uses DISTINCT in case some sailors reserved more than 1 red boat)\n",
    "FROM Sailors\n",
    "WHERE sid IN(                                   --Filters the data so the code does not have to examine ALL the data in the 3 tables\n",
    "            SELECT sid\n",
    "            FROM Reserves, Boats\n",
    "            WHERE Reserves.bid = Boats.bid\n",
    "            AND Color = 'red'\n",
    "            OR Color = 'green'\n",
    ");"
   ]
  },
  {
   "cell_type": "markdown",
   "metadata": {},
   "source": [
    "## Q6: This finds names of sailors who've reserved a red and a green boat\n",
    "#### I use nested queries and an INTERSECT statement here, to find sailors who appear in the data for both red boat reservations AND green boat reservations"
   ]
  },
  {
   "cell_type": "code",
   "execution_count": 14,
   "metadata": {},
   "outputs": [
    {
     "name": "stdout",
     "output_type": "stream",
     "text": [
      " * sqlite:///lab2.db3\n",
      "Done.\n"
     ]
    },
    {
     "data": {
      "text/html": [
       "<table>\n",
       "    <tr>\n",
       "        <th>sname</th>\n",
       "    </tr>\n",
       "    <tr>\n",
       "        <td>greenbeard</td>\n",
       "    </tr>\n",
       "    <tr>\n",
       "        <td>rusty</td>\n",
       "    </tr>\n",
       "</table>"
      ],
      "text/plain": [
       "[('greenbeard',), ('rusty',)]"
      ]
     },
     "execution_count": 14,
     "metadata": {},
     "output_type": "execute_result"
    }
   ],
   "source": [
    "%%sql\n",
    "SELECT DISTINCT sname                              --Selects the sname column from the Sailors table (uses DISTINCT in case some sailors reserved more than 1 red boat)\n",
    "FROM Sailors\n",
    "WHERE sid IN(                                      --Filters the data so the code does not have to examine ALL the data in the 3 tables\n",
    "        SELECT sid\n",
    "        FROM Reserves, Boats\n",
    "        WHERE Reserves.bid = Boats.bid\n",
    "        AND Color = \"red\"\n",
    "    INTERSECT                                      --Looks at the intersection of reservations of red boats and reservations of green boats\n",
    "        SELECT sid\n",
    "        From Reserves, Boats\n",
    "        WHERE Reserves.bid = Boats.bid\n",
    "        AND Color = \"green\");"
   ]
  },
  {
   "cell_type": "markdown",
   "metadata": {},
   "source": [
    "## Q7: Find names of sailors who’ve reserved only red boats\n",
    "#### I use an EXCEPT statement here to eliminate the intersection of red and other colors, so what is returned is Sailors who have exclusively reserved red boats"
   ]
  },
  {
   "cell_type": "code",
   "execution_count": 15,
   "metadata": {},
   "outputs": [
    {
     "name": "stdout",
     "output_type": "stream",
     "text": [
      " * sqlite:///lab2.db3\n",
      "Done.\n"
     ]
    },
    {
     "data": {
      "text/html": [
       "<table>\n",
       "    <tr>\n",
       "        <th>sname</th>\n",
       "    </tr>\n",
       "    <tr>\n",
       "        <td>redbeard</td>\n",
       "    </tr>\n",
       "    <tr>\n",
       "        <td>dustin</td>\n",
       "    </tr>\n",
       "</table>"
      ],
      "text/plain": [
       "[('redbeard',), ('dustin',)]"
      ]
     },
     "execution_count": 15,
     "metadata": {},
     "output_type": "execute_result"
    }
   ],
   "source": [
    "%%sql\n",
    "SELECT sname                                   --Selects the sname column from the Sailors table (uses DISTINCT in case some sailors reserved more than 1 red boat)\n",
    "FROM Sailors\n",
    "WHERE sid IN(                                  --Filters the data so the code does not have to examine ALL the data in the 3 tables\n",
    "        SELECT sid\n",
    "        FROM Reserves, Boats\n",
    "        WHERE Reserves.bid = Boats.bid\n",
    "        AND Color = \"red\"\n",
    "    EXCEPT                                     --Uses EXCEPT to exclude sailors who reserved red boats AND boats of other colors\n",
    "        SELECT sid\n",
    "        From Reserves, Boats\n",
    "        WHERE Reserves.bid = Boats.bid\n",
    "        AND Color != \"red\");"
   ]
  },
  {
   "cell_type": "code",
   "execution_count": null,
   "metadata": {},
   "outputs": [],
   "source": []
  }
 ],
 "metadata": {
  "kernelspec": {
   "display_name": "Python 3",
   "language": "python",
   "name": "python3"
  },
  "language_info": {
   "codemirror_mode": {
    "name": "ipython",
    "version": 3
   },
   "file_extension": ".py",
   "mimetype": "text/x-python",
   "name": "python",
   "nbconvert_exporter": "python",
   "pygments_lexer": "ipython3",
   "version": "3.8.3"
  }
 },
 "nbformat": 4,
 "nbformat_minor": 4
}
